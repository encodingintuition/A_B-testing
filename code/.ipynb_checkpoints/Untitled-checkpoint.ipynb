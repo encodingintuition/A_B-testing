{
 "cells": [
  {
   "cell_type": "markdown",
   "metadata": {},
   "source": [
    "## Executive Summary:"
   ]
  },
  {
   "cell_type": "markdown",
   "metadata": {},
   "source": [
    "#### Opportunity Statement:"
   ]
  },
  {
   "cell_type": "markdown",
   "metadata": {},
   "source": [
    "To create a more human interface to interact with a computer system.\n",
    "\n",
    "- Stage 1 – to have a computer system interact with pre-defined gestures \n",
    "- Stage 2 – to have a model intuit human needs through our gestures ( as the family dog uses observation to reactively communicate) \n",
    "\n"
   ]
  },
  {
   "cell_type": "markdown",
   "metadata": {},
   "source": [
    "#### Project Goal: "
   ]
  },
  {
   "cell_type": "markdown",
   "metadata": {},
   "source": [
    "To train a convolutional neural network to identify particular hand gestures.\n"
   ]
  },
  {
   "cell_type": "markdown",
   "metadata": {},
   "source": [
    "#### Data:"
   ]
  },
  {
   "cell_type": "markdown",
   "metadata": {},
   "source": [
    "- opensource online archive \n",
    "- 25 partisipants via phone photos of their hands\n",
    "- webcam screen shoot "
   ]
  },
  {
   "cell_type": "markdown",
   "metadata": {},
   "source": [
    "#### Metrics "
   ]
  },
  {
   "cell_type": "markdown",
   "metadata": {},
   "source": [
    "- Average mean precision (mAP)\n",
    "- Accuracy \n",
    "- Percision "
   ]
  },
  {
   "cell_type": "markdown",
   "metadata": {},
   "source": [
    "#### Findings"
   ]
  },
  {
   "cell_type": "markdown",
   "metadata": {},
   "source": [
    "A YoloV4 model is successful in being able to identify particular hand gestures after being trained on custom data."
   ]
  },
  {
   "cell_type": "markdown",
   "metadata": {},
   "source": [
    "The detection is able to take place in real time and because of the archutecture of the YoloV4 model there is not a sugnificat computational cost put on hardware. "
   ]
  },
  {
   "cell_type": "markdown",
   "metadata": {},
   "source": [
    "---"
   ]
  },
  {
   "cell_type": "markdown",
   "metadata": {},
   "source": [
    "--- "
   ]
  },
  {
   "cell_type": "code",
   "execution_count": null,
   "metadata": {},
   "outputs": [],
   "source": []
  },
  {
   "cell_type": "markdown",
   "metadata": {},
   "source": [
    "---"
   ]
  },
  {
   "cell_type": "markdown",
   "metadata": {},
   "source": [
    "---"
   ]
  },
  {
   "cell_type": "markdown",
   "metadata": {},
   "source": [
    "#### Guestures:"
   ]
  },
  {
   "cell_type": "markdown",
   "metadata": {},
   "source": [
    "Nine Guestures based on sign language where selected to tied to input commands.\n",
    "In part 1.5 (outside the scope of the current project) these commands will be used to control a action to control a small robot or the logo turtle\n",
    " - Front \n",
    " - Back \n",
    " - Left \n",
    " - Right\n",
    " - Command (tell the system a command is about to be entered)\n",
    " - Plus ( join commads together to form a series of commands)\n",
    " - number 3\n",
    " - number 7\n",
    " - number 5 \n",
    " "
   ]
  },
  {
   "cell_type": "markdown",
   "metadata": {},
   "source": [
    "# Data"
   ]
  },
  {
   "cell_type": "markdown",
   "metadata": {},
   "source": [
    "Understanding that a model is as good as the data it eats. "
   ]
  },
  {
   "cell_type": "markdown",
   "metadata": {},
   "source": [
    "collection of other people"
   ]
  },
  {
   "cell_type": "markdown",
   "metadata": {},
   "source": [
    "need for duversity "
   ]
  },
  {
   "cell_type": "markdown",
   "metadata": {},
   "source": [
    "#### Data Sources:\n",
    "- Images from David Lee's database on Roboflow\n",
    "- community sourced images for ~ 25 individuals via phone photos \n",
    "- webcam captures (16:9)\n",
    "- NAN image (images not of the classes without bounding boxes)"
   ]
  },
  {
   "cell_type": "markdown",
   "metadata": {},
   "source": [
    "#### Data Augmentation:"
   ]
  },
  {
   "cell_type": "markdown",
   "metadata": {},
   "source": [
    "Creating more data by altering the origonal data through: geometric transformations, flipping, color modification, cropping, rotation, and etc."
   ]
  },
  {
   "cell_type": "markdown",
   "metadata": {},
   "source": [
    "basic augmentation:\n",
    "- "
   ]
  },
  {
   "cell_type": "markdown",
   "metadata": {},
   "source": [
    "Aspect ratio:\n",
    "- The model will reduce the shape of the input image into a square. \n",
    "- we theorized that this compression effects the shape of the scanned image. \n",
    "    - a vertical phone image compressed into square would create a shot and fat shape.\n",
    "    - a webcam (16:9) aspect ratio would create a tall and skinny image when compressed.\n",
    "- We experimented by adding black canves to the vertical iphone images to create the HD perportions when they get compressed to 1:1 square.  \n",
    "- Performence dropped when this was done because we feel that there was too much added black that did not work well with the bag of tricks built in augmentation within the begining of the model. "
   ]
  },
  {
   "cell_type": "code",
   "execution_count": null,
   "metadata": {},
   "outputs": [],
   "source": []
  },
  {
   "cell_type": "code",
   "execution_count": null,
   "metadata": {},
   "outputs": [],
   "source": []
  },
  {
   "cell_type": "code",
   "execution_count": null,
   "metadata": {},
   "outputs": [],
   "source": []
  },
  {
   "cell_type": "code",
   "execution_count": 12,
   "metadata": {},
   "outputs": [],
   "source": [
    "### Ref:"
   ]
  },
  {
   "cell_type": "markdown",
   "metadata": {},
   "source": [
    "Understanding data Augmentation:\n",
    "https://github.com/AgaMiko/data-augmentation-review"
   ]
  },
  {
   "cell_type": "markdown",
   "metadata": {},
   "source": [
    "David Lee's dataset on roboflow https://public.roboflow.com/object-detection/american-sign-language-letters"
   ]
  },
  {
   "cell_type": "markdown",
   "metadata": {},
   "source": [
    "# Model"
   ]
  },
  {
   "cell_type": "code",
   "execution_count": null,
   "metadata": {},
   "outputs": [],
   "source": []
  }
 ],
 "metadata": {
  "kernelspec": {
   "display_name": "Python 3",
   "language": "python",
   "name": "python3"
  },
  "language_info": {
   "codemirror_mode": {
    "name": "ipython",
    "version": 3
   },
   "file_extension": ".py",
   "mimetype": "text/x-python",
   "name": "python",
   "nbconvert_exporter": "python",
   "pygments_lexer": "ipython3",
   "version": "3.8.2"
  }
 },
 "nbformat": 4,
 "nbformat_minor": 4
}
